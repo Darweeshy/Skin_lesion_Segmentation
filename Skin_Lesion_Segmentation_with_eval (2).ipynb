{
  "cells": [
    {
      "cell_type": "markdown",
      "source": [
        "# Skin Lesion Seegmentation\n",
        "This notebook will apply UNET Convolutional Neural Network to segment the lesion area."
      ],
      "metadata": {
        "id": "DLewU1CL6twv"
      }
    },
    {
      "cell_type": "markdown",
      "source": [
        "***INPUT DATA***: The input data are dermoscopic lesion images in JPEG format.\n",
        "\n",
        "**All lesion images are named using the scheme ISIC_<image_id>.jpg, where <image_id> is a 7-digit unique identifier.The lesion images were acquired with a variety of dermatoscope types, from all anatomic sites (excluding mucosa and nails), from a historical sample of patients presented for skin cancer screening, from several different institutions. Every lesion image contains exactly one primary lesion; other fiducial markers, smaller secondary lesions, or other pigmented regions may be neglected.**\n",
        "\n",
        "\n",
        "***RESPONSE DATA***:\n",
        "**The response data are binary mask images in PNG format, indicating the location of the primary skin lesion within each input lesion image.\n",
        "Mask images are named using the scheme ISIC_<image_id>_segmentation.png, where <image_id> matches the corresponding lesion image for the mask.\n",
        "Mask images must have the exact same dimensions as their corresponding lesion image. Mask images are encoded as single-channel (grayscale) 8-bit PNGs (to provide lossless compression), where each pixel is either:\n",
        "0: representing the background of the image, or areas outside the primary lesion\n",
        "255: representing the foreground of the image, or areas inside the primary lesion.**"
      ],
      "metadata": {
        "id": "3Vea0WsxDgOB"
      }
    },
    {
      "cell_type": "code",
      "execution_count": null,
      "metadata": {
        "colab": {
          "base_uri": "https://localhost:8080/"
        },
        "id": "zvajoxqRPdA4",
        "outputId": "f1842cf0-5a04-41f8-ee29-b38d19dca0ad"
      },
      "outputs": [
        {
          "output_type": "stream",
          "name": "stdout",
          "text": [
            "Drive already mounted at /content/drive; to attempt to forcibly remount, call drive.mount(\"/content/drive\", force_remount=True).\n"
          ]
        }
      ],
      "source": [
        "# prompt: mount drive\n",
        "from google.colab import drive\n",
        "drive.mount('/content/drive')\n"
      ]
    },
    {
      "cell_type": "markdown",
      "source": [
        " This code implements a complete pipeline for training a UNet model for image segmentation. It includes data loading and augmentation, model definition, training loop, checkpoint saving/loading, accuracy checking, and prediction saving."
      ],
      "metadata": {
        "id": "SW5CgvDVE4HM"
      }
    },
    {
      "cell_type": "code",
      "execution_count": null,
      "metadata": {
        "id": "XNBDgMH6P3K7"
      },
      "outputs": [],
      "source": [
        "import os\n",
        "import cv2\n",
        "import numpy as np\n",
        "from PIL import Image\n",
        "import matplotlib.pyplot as plt\n",
        "import torch\n",
        "import torch.nn as nn\n",
        "import torch.nn.functional as F\n",
        "import torchvision.transforms.functional as TF\n",
        "import torchvision.utils\n",
        "from torch.utils.data import Dataset, DataLoader\n",
        "import albumentations as A\n",
        "from albumentations.pytorch import ToTensorV2\n",
        "import torch.optim as optim\n",
        "from tqdm import tqdm\n"
      ]
    },
    {
      "cell_type": "markdown",
      "metadata": {
        "id": "sVJhwrjoP58t"
      },
      "source": [
        "# Defining key parameters for training."
      ]
    },
    {
      "cell_type": "code",
      "execution_count": null,
      "metadata": {
        "id": "CsVT8-8rP_aw"
      },
      "outputs": [],
      "source": [
        "LEARNING_RATE = 0.0003\n",
        "DEVICE = torch.device(\"cuda\" if torch.cuda.is_available() else \"cpu\")\n",
        "BATCH_SIZE = 32\n",
        "NUM_EPOCHS = 20\n",
        "NUM_WORKERS = 16\n",
        "IMAGE_HEIGHT = 224\n",
        "IMAGE_WIDTH = 224\n",
        "PRE_FETCH_FACTOR = 16*2\n",
        "PIN_MEMORY = True\n",
        "LOAD_MODEL = False"
      ]
    },
    {
      "cell_type": "markdown",
      "source": [
        "**This model was trained locally**"
      ],
      "metadata": {
        "id": "7x5RgU5r9fEX"
      }
    },
    {
      "cell_type": "code",
      "execution_count": null,
      "metadata": {
        "id": "seKQilU_SdEa"
      },
      "outputs": [],
      "source": [
        "# Directories\n",
        "base_dir = 'C:/Users/alida/Downloads/content/drive/MyDrive/Segmentation'\n",
        "TRAIN_IMG_DIR = os.path.join(base_dir, 'Training_Input')\n",
        "TRAIN_MASK_DIR = os.path.join(base_dir, 'Training_groundTruth/ISIC2018_Task1_Training_GroundTruth')\n",
        "VAL_IMG_DIR = os.path.join(base_dir, 'Validation_Input/ISIC2018_Task1-2_Validation_Input')\n",
        "VAL_MASK_DIR = os.path.join(base_dir, 'ValidationGroundTruths/ISIC2018_Task1_Validation_GroundTruth')\n",
        "TEST_IMG_DIR = os.path.join(base_dir, 'Test_Input/ISIC2018_Task1-2_Test_Input')\n",
        "TEST_MASK_DIR = os.path.join(base_dir, 'test_ground_truth/ISIC2018_Task1_Test_GroundTruth')\n",
        "MODEL_SAVE_PATH = 'C:/Users/alida/Downloads/content/drive/MyDrive/Saved_Models/my_checkpoint.pth.tar'"
      ]
    },
    {
      "cell_type": "markdown",
      "source": [
        "# Defines a basic building block with two convolutional layers followed by batch normalization and ReLU activation. This is used in both the encoder and decoder parts of the UNet."
      ],
      "metadata": {
        "id": "V2KB-Aic-AwN"
      }
    },
    {
      "cell_type": "code",
      "execution_count": null,
      "metadata": {
        "id": "Vi5SZxrWXxPc"
      },
      "outputs": [],
      "source": [
        "class DoubleConv(nn.Module):\n",
        "    def __init__(self, in_channels, out_channels):\n",
        "        super(DoubleConv, self).__init__()\n",
        "        self.conv = nn.Sequential(\n",
        "            nn.Conv2d(in_channels, out_channels, 3, 1, 1, bias=False),\n",
        "            nn.BatchNorm2d(out_channels),\n",
        "            nn.ReLU(inplace=True),\n",
        "            nn.Conv2d(out_channels, out_channels, 3, 1, 1, bias=False),\n",
        "            nn.BatchNorm2d(out_channels),\n",
        "            nn.ReLU(inplace=True)\n",
        "        )\n",
        "    def forward(self, x):\n",
        "        return self.conv(x)"
      ]
    },
    {
      "cell_type": "markdown",
      "source": [
        "**UNET Class**: Defines the full UNet architecture. The __init__ method sets up the layers for both the encoder (down path) and decoder (up path), including the bottleneck.\n",
        "\n",
        "The **forward** method defines the forward pass through the network, including skip connections that are concatenated in the decoder part.\n",
        "\n",
        "\n",
        "\n",
        "\n",
        "\n",
        "![image.png](data:image/png;base64,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)\n"
      ],
      "metadata": {
        "id": "9lH6urxa-eBQ"
      }
    },
    {
      "cell_type": "code",
      "execution_count": null,
      "metadata": {
        "id": "uFta4UDc5hJG"
      },
      "outputs": [],
      "source": [
        "class UNET(nn.Module):\n",
        "    def __init__(self, in_channels=3, out_channels=1, features=[64, 128, 256, 512]):\n",
        "        super(UNET, self).__init__()\n",
        "        self.ups = nn.ModuleList()\n",
        "        self.downs = nn.ModuleList()\n",
        "        self.pool = nn.MaxPool2d(kernel_size=2, stride=2)\n",
        "\n",
        "        # Down part of UNet\n",
        "        for feature in features:\n",
        "            self.downs.append(DoubleConv(in_channels, feature))\n",
        "            in_channels = feature\n",
        "\n",
        "        # Up part of UNet\n",
        "        for feature in reversed(features):\n",
        "            self.ups.append(\n",
        "                nn.ConvTranspose2d(feature * 2, feature, kernel_size=2, stride=2)\n",
        "            )\n",
        "            self.ups.append(DoubleConv(feature * 2, feature))\n",
        "\n",
        "        self.bottleneck = DoubleConv(features[-1], features[-1] * 2)\n",
        "        self.final_conv = nn.Conv2d(features[0], out_channels, kernel_size=1)\n",
        "\n",
        "    def forward(self, x):\n",
        "        skip_connections = []\n",
        "        for down in self.downs:\n",
        "            x = down(x)\n",
        "            skip_connections.append(x)\n",
        "            x = self.pool(x)\n",
        "        x = self.bottleneck(x)\n",
        "        skip_connections = skip_connections[::-1]\n",
        "        for idx in range(0, len(self.ups), 2):\n",
        "            x = self.ups[idx](x)\n",
        "            skip_connection = skip_connections[idx // 2]\n",
        "            concat_skip = torch.cat((skip_connection, x), dim=1)\n",
        "            x = self.ups[idx + 1](concat_skip)\n",
        "        return self.final_conv(x)"
      ]
    },
    {
      "cell_type": "markdown",
      "source": [
        "**Custom dataset class for the ISIC 2018 dataset. It handles loading, grayscale conversion, histogram equalization, and any additional transformations.**"
      ],
      "metadata": {
        "id": "EqmTYHzZFfFm"
      }
    },
    {
      "cell_type": "code",
      "execution_count": null,
      "metadata": {
        "id": "PUoFyMaH5mIe"
      },
      "outputs": [],
      "source": [
        "class ISIC2018Dataset(Dataset):\n",
        "    def __init__(self, image_dir, mask_dir, transform=None):\n",
        "        self.image_dir = image_dir\n",
        "        self.mask_dir = mask_dir\n",
        "        self.transform = transform\n",
        "        self.images = os.listdir(image_dir)\n",
        "\n",
        "    def __len__(self):\n",
        "        return len(self.images)\n",
        "\n",
        "    def __getitem__(self, index):\n",
        "        img_path = os.path.join(self.image_dir, self.images[index])\n",
        "        mask_path = os.path.join(self.mask_dir, self.images[index].replace('.jpg', '_segmentation.png'))\n",
        "        sample = {}\n",
        "        sample['image'] = img_path\n",
        "        sample['mask'] = mask_path\n",
        "        # image = np.array(Image.open(img_path).convert(\"L\"))\n",
        "        # image = cv2.equalizeHist(image)\n",
        "        # mask = np.array(Image.open(mask_path).convert(\"L\"), dtype=np.float32)\n",
        "        # mask[mask == 255] = 1.0\n",
        "\n",
        "        if self.transform is not None:\n",
        "            # augmentations = self.transform(image=image, mask=mask)\n",
        "            # image = augmentations[\"image\"]\n",
        "            # mask = augmentations[\"mask\"]\n",
        "            self.transform(sample)\n",
        "\n",
        "        return sample\n"
      ]
    },
    {
      "cell_type": "code",
      "source": [
        "class LoadImage():\n",
        "  def __init__(self,keys):\n",
        "    self.keys = keys\n",
        "  def __call__(self,sample):\n",
        "    for key in self.keys:\n",
        "      sample[key] = np.array(Image.open(sample[key]).convert(\"L\"))\n",
        "    return sample\n",
        "\n",
        "class Resize():\n",
        "  def __init__(self,keys,image_height,image_width):\n",
        "    self.keys = keys\n",
        "    self.image_height = image_height\n",
        "    self.image_width = image_width\n",
        "\n",
        "  def __call__(self,sample):\n",
        "    for key in self.keys:\n",
        "      sample[key] = A.Resize(height=self.image_height,width=self.image_width)(sample[key])\n",
        "    return sample"
      ],
      "metadata": {
        "id": "rOq7tLapBiNr"
      },
      "execution_count": null,
      "outputs": []
    },
    {
      "cell_type": "code",
      "source": [
        "tt = A.Compose([\n",
        "    LoadImage(keys=['image','mask']),\n",
        "    Resize(keys=['image'],)\n",
        "])"
      ],
      "metadata": {
        "id": "RK9HkFJWCJrn"
      },
      "execution_count": null,
      "outputs": []
    },
    {
      "cell_type": "markdown",
      "source": [
        "<h1>Data Augmentation:</h1>\n",
        "Using the Albumentations library for data augmentation. The training transformations include resizing, rotation, flipping, normalization, and converting to PyTorch tensors. Validation transformations include resizing, normalization, and tensor conversion. Data augmentation helps improve the generalization capability of the model by introducing variations in the training data."
      ],
      "metadata": {
        "id": "IFwRIM9NFoSA"
      }
    },
    {
      "cell_type": "code",
      "execution_count": null,
      "metadata": {
        "id": "Zx2BbJFM5rMA"
      },
      "outputs": [],
      "source": [
        "train_transform = A.Compose([\n",
        "    A.Resize(height=IMAGE_HEIGHT, width=IMAGE_WIDTH),\n",
        "    A.Rotate(limit=35, p=1.0),\n",
        "    A.HorizontalFlip(p=0.5),\n",
        "    A.VerticalFlip(p=0.1),\n",
        "    A.Normalize(mean=[0.0], std=[1.0], max_pixel_value=255.0),\n",
        "    ToTensorV2(),\n",
        "])\n",
        "\n",
        "val_transform = A.Compose([\n",
        "    A.Resize(height=IMAGE_HEIGHT, width=IMAGE_WIDTH),\n",
        "    A.Normalize(mean=[0.0], std=[1.0], max_pixel_value=255.0),\n",
        "    ToTensorV2(),\n",
        "])\n",
        "test_transform = val_transform\n"
      ]
    },
    {
      "cell_type": "markdown",
      "source": [
        "These functions handle saving and loading model checkpoints to/from Drive, which is useful for saving the model state after training and resuming training if needed."
      ],
      "metadata": {
        "id": "6wmE_sZKGMgs"
      }
    },
    {
      "cell_type": "code",
      "execution_count": null,
      "metadata": {
        "id": "lX3D5B_B5vmh"
      },
      "outputs": [],
      "source": [
        "def save_checkpoint(state, filename=MODEL_SAVE_PATH):\n",
        "    print(\"=> Saving checkpoint\")\n",
        "    torch.save(state, filename)\n",
        "\n",
        "def load_checkpoint(checkpoint, model):\n",
        "    print(\"=> Loading checkpoint\")\n",
        "    model.load_state_dict(checkpoint[\"state_dict\"])\n",
        "\n",
        "def get_loaders(train_dir, train_maskdir, val_dir, val_maskdir, test_dir, test_maskdir, batch_size, train_transform, val_transform, test_transform, num_workers=4, pin_memory=True):\n",
        "    train_ds = ISIC2018Dataset(image_dir=train_dir, mask_dir=train_maskdir, transform=train_transform)\n",
        "    val_ds = ISIC2018Dataset(image_dir=val_dir, mask_dir=val_maskdir, transform=val_transform)\n",
        "    test_ds = ISIC2018Dataset(image_dir=test_dir, mask_dir=test_maskdir, transform=test_transform)\n",
        "\n",
        "    train_loader = DataLoader(train_ds, batch_size=batch_size, num_workers=num_workers, pin_memory=pin_memory, shuffle=True)\n",
        "    val_loader = DataLoader(val_ds, batch_size=batch_size, num_workers=num_workers, pin_memory=pin_memory, shuffle=False)\n",
        "    test_loader = DataLoader(test_ds, batch_size=batch_size, num_workers=num_workers, pin_memory=pin_memory, shuffle=False)\n",
        "\n",
        "    return train_loader, val_loader, test_loader\n"
      ]
    },
    {
      "cell_type": "markdown",
      "source": [
        "Accuracy Calculation: Counts the number of correctly predicted pixels (num_correct) and the total number of pixels (num_pixels). It then calculates accuracy as num_correct/num_pixels.\n",
        "\n",
        "Dice Score Calculation: For each batch, calculates the Dice score by measuring the overlap between the predicted and ground truth masks."
      ],
      "metadata": {
        "id": "xMc-EFoHGkEu"
      }
    },
    {
      "cell_type": "code",
      "source": [
        "def check_accuracy(loader, model, device):\n",
        "    num_correct = 0\n",
        "    num_pixels = 0\n",
        "    dice_score = 0\n",
        "    model.eval()\n",
        "\n",
        "    with torch.no_grad():\n",
        "        for x, y in loader:\n",
        "            x = x.to(device)\n",
        "            y = y.to(device).unsqueeze(1)\n",
        "            preds = torch.sigmoid(model(x))\n",
        "            preds = (preds > 0.5).float()\n",
        "            num_correct += (preds == y).sum()\n",
        "            num_pixels += torch.numel(preds)\n",
        "            dice_score += (2 * (preds * y).sum()) / ((preds + y).sum() + 1e-8)\n",
        "\n",
        "    print(f\"Got {num_correct}/{num_pixels} with acc {num_correct / num_pixels * 100:.2f}\")\n",
        "    print(f\"Dice score: {dice_score / len(loader)}\")\n",
        "    model.train()\n",
        "\n",
        "\n",
        "\n",
        "def save_predictions_as_imgs(loader, model, folder=\"C:/Users/alida/Downloads/content/drive/MyDrive/Saved_Images\", device=\"cuda\"):\n",
        "    model.eval()\n",
        "    for idx, (x, y) in enumerate(loader):\n",
        "        x = x.to(device)\n",
        "        with torch.no_grad():\n",
        "            preds = torch.sigmoid(model(x))\n",
        "            preds = (preds > 0.5).float()\n",
        "            torchvision.utils.save_image(preds, f\"{folder}/pred_{idx}.png\")\n",
        "            torchvision.utils.save_image(y.unsqueeze(1), f\"{folder}/mask_{idx}.png\")\n",
        "    model.train()\n"
      ],
      "metadata": {
        "id": "Uai1aeKQGdND"
      },
      "execution_count": null,
      "outputs": []
    },
    {
      "cell_type": "markdown",
      "source": [
        "Defines the training loop for one epoch, including forward pass, loss computation, backward pass, and optimization. It uses mixed precision training to speed up the process and reduce memory usage."
      ],
      "metadata": {
        "id": "8Wjr009XHvQm"
      }
    },
    {
      "cell_type": "code",
      "execution_count": null,
      "metadata": {
        "id": "qAK0cPvs6ETO"
      },
      "outputs": [],
      "source": [
        "def train_fn(loader, model, optimizer, loss_fn, scaler, device):\n",
        "    loop = tqdm(loader, leave=True)\n",
        "    losses = []\n",
        "\n",
        "    for batch_idx, (data, targets) in enumerate(loop):\n",
        "        data = data.to(device=device)\n",
        "        targets = targets.to(device=device).unsqueeze(1)\n",
        "        optimizer.zero_grad()\n",
        "        with torch.cuda.amp.autocast():\n",
        "            predictions = model(data)\n",
        "            loss = loss_fn(predictions, targets)\n",
        "        scaler.scale(loss).backward()\n",
        "        scaler.step(optimizer)\n",
        "        scaler.update()\n",
        "\n",
        "        loop.set_postfix(loss=loss.item())\n",
        "        losses.append(loss.item())\n",
        "\n",
        "    return losses\n"
      ]
    },
    {
      "cell_type": "code",
      "source": [
        "## added to fit the new dataset loader\n",
        "def train_fn(loader, model, optimizer, loss_fn, scaler, device):\n",
        "    loop = tqdm(loader, leave=True)\n",
        "    losses = []\n",
        "\n",
        "    for batch_idx, data in enumerate(loop):\n",
        "        inputs = data['image'].to(device=device)\n",
        "        targets = data['mask'].to(device=device).unsqueeze(1)\n",
        "        optimizer.zero_grad()\n",
        "        with torch.cuda.amp.autocast():\n",
        "            predictions = model(inputs)\n",
        "            loss = loss_fn(predictions, targets)\n",
        "        scaler.scale(loss).backward()\n",
        "        scaler.step(optimizer)\n",
        "        scaler.update()\n",
        "\n",
        "        loop.set_postfix(loss=loss.item())\n",
        "        losses.append(loss.item())\n",
        "\n",
        "    return losses\n"
      ],
      "metadata": {
        "id": "YM-o-kGVDjNx"
      },
      "execution_count": null,
      "outputs": []
    },
    {
      "cell_type": "markdown",
      "source": [
        "This is the entry point for running the training. It sets up the model, data loaders, and training loop. It also handles loading a pre-trained model if specified, saving model checkpoints after each epoch, checking accuracy, and saving predictions."
      ],
      "metadata": {
        "id": "b7Rj-PdLHy5Z"
      }
    },
    {
      "cell_type": "code",
      "execution_count": null,
      "metadata": {
        "colab": {
          "base_uri": "https://localhost:8080/",
          "height": 1000
        },
        "id": "5kezY2u-6FN_",
        "outputId": "4eccfbb6-8caa-40c1-cfad-a8fdb79bc2af"
      },
      "outputs": [
        {
          "output_type": "stream",
          "name": "stderr",
          "text": [
            "C:\\Users\\alida\\AppData\\Local\\Programs\\Python\\Python310\\lib\\site-packages\\torch\\cuda\\amp\\grad_scaler.py:125: UserWarning: torch.cuda.amp.GradScaler is enabled, but CUDA is not available.  Disabling.\n",
            "  warnings.warn(\n",
            "  0%|                                                                                            | 0/8 [00:00<?, ?it/s]C:\\Users\\alida\\AppData\\Local\\Programs\\Python\\Python310\\lib\\site-packages\\torch\\amp\\autocast_mode.py:250: UserWarning: User provided device_type of 'cuda', but CUDA is not available. Disabling\n",
            "  warnings.warn(\n",
            "100%|████████████████████████████████████████████████████████████████████████| 8/8 [05:03<00:00, 37.98s/it, loss=0.427]\n"
          ]
        },
        {
          "output_type": "stream",
          "name": "stdout",
          "text": [
            "Got 3538157/5017600 with acc 70.51\n",
            "Dice score: 0.5731940269470215\n"
          ]
        },
        {
          "output_type": "stream",
          "name": "stderr",
          "text": [
            "100%|████████████████████████████████████████████████████████████████████████| 4/4 [01:53<00:00, 28.47s/it, loss=0.329]\n"
          ]
        },
        {
          "output_type": "stream",
          "name": "stdout",
          "text": [
            "=> Saving checkpoint\n"
          ]
        },
        {
          "output_type": "stream",
          "name": "stderr",
          "text": [
            "100%|████████████████████████████████████████████████████████████████████████| 8/8 [05:23<00:00, 40.48s/it, loss=0.834]\n"
          ]
        },
        {
          "output_type": "stream",
          "name": "stdout",
          "text": [
            "Got 2690192/5017600 with acc 53.62\n",
            "Dice score: 0.5018269419670105\n"
          ]
        },
        {
          "output_type": "stream",
          "name": "stderr",
          "text": [
            "100%|████████████████████████████████████████████████████████████████████████| 4/4 [01:57<00:00, 29.27s/it, loss=0.283]\n"
          ]
        },
        {
          "output_type": "stream",
          "name": "stdout",
          "text": [
            "=> Saving checkpoint\n"
          ]
        },
        {
          "output_type": "stream",
          "name": "stderr",
          "text": [
            "100%|████████████████████████████████████████████████████████████████████████| 8/8 [05:02<00:00, 37.80s/it, loss=0.253]\n"
          ]
        },
        {
          "output_type": "stream",
          "name": "stdout",
          "text": [
            "Got 1520955/5017600 with acc 30.31\n",
            "Dice score: 0.41238510608673096\n"
          ]
        },
        {
          "output_type": "stream",
          "name": "stderr",
          "text": [
            "100%|████████████████████████████████████████████████████████████████████████| 4/4 [01:52<00:00, 28.25s/it, loss=0.239]\n"
          ]
        },
        {
          "output_type": "stream",
          "name": "stdout",
          "text": [
            "=> Saving checkpoint\n"
          ]
        },
        {
          "output_type": "stream",
          "name": "stderr",
          "text": [
            "100%|████████████████████████████████████████████████████████████████████████| 8/8 [04:46<00:00, 35.84s/it, loss=0.519]\n"
          ]
        },
        {
          "output_type": "stream",
          "name": "stdout",
          "text": [
            "Got 4384856/5017600 with acc 87.39\n",
            "Dice score: 0.7684650421142578\n"
          ]
        },
        {
          "output_type": "stream",
          "name": "stderr",
          "text": [
            "100%|████████████████████████████████████████████████████████████████████████| 4/4 [01:55<00:00, 28.79s/it, loss=0.233]\n"
          ]
        },
        {
          "output_type": "stream",
          "name": "stdout",
          "text": [
            "=> Saving checkpoint\n"
          ]
        },
        {
          "output_type": "stream",
          "name": "stderr",
          "text": [
            "100%|████████████████████████████████████████████████████████████████████████| 8/8 [04:47<00:00, 35.99s/it, loss=0.298]\n"
          ]
        },
        {
          "output_type": "stream",
          "name": "stdout",
          "text": [
            "Got 4176530/5017600 with acc 83.24\n",
            "Dice score: 0.7061031460762024\n"
          ]
        },
        {
          "output_type": "stream",
          "name": "stderr",
          "text": [
            "100%|████████████████████████████████████████████████████████████████████████| 4/4 [01:50<00:00, 27.62s/it, loss=0.244]\n"
          ]
        },
        {
          "output_type": "stream",
          "name": "stdout",
          "text": [
            "=> Saving checkpoint\n"
          ]
        },
        {
          "output_type": "stream",
          "name": "stderr",
          "text": [
            "100%|████████████████████████████████████████████████████████████████████████| 8/8 [04:48<00:00, 36.00s/it, loss=0.242]\n"
          ]
        },
        {
          "output_type": "stream",
          "name": "stdout",
          "text": [
            "Got 4396457/5017600 with acc 87.62\n",
            "Dice score: 0.7526651620864868\n"
          ]
        },
        {
          "output_type": "stream",
          "name": "stderr",
          "text": [
            "100%|████████████████████████████████████████████████████████████████████████| 4/4 [01:50<00:00, 27.73s/it, loss=0.217]\n"
          ]
        },
        {
          "output_type": "stream",
          "name": "stdout",
          "text": [
            "=> Saving checkpoint\n"
          ]
        },
        {
          "output_type": "stream",
          "name": "stderr",
          "text": [
            "100%|████████████████████████████████████████████████████████████████████████| 8/8 [04:46<00:00, 35.76s/it, loss=0.428]\n"
          ]
        },
        {
          "output_type": "stream",
          "name": "stdout",
          "text": [
            "Got 3808975/5017600 with acc 75.91\n",
            "Dice score: 0.5545653700828552\n"
          ]
        },
        {
          "output_type": "stream",
          "name": "stderr",
          "text": [
            "100%|████████████████████████████████████████████████████████████████████████| 4/4 [01:48<00:00, 27.05s/it, loss=0.212]\n"
          ]
        },
        {
          "output_type": "stream",
          "name": "stdout",
          "text": [
            "=> Saving checkpoint\n"
          ]
        },
        {
          "output_type": "stream",
          "name": "stderr",
          "text": [
            "100%|████████████████████████████████████████████████████████████████████████| 8/8 [04:44<00:00, 35.59s/it, loss=0.221]\n"
          ]
        },
        {
          "output_type": "stream",
          "name": "stdout",
          "text": [
            "Got 4347345/5017600 with acc 86.64\n",
            "Dice score: 0.7456194162368774\n"
          ]
        },
        {
          "output_type": "stream",
          "name": "stderr",
          "text": [
            "100%|████████████████████████████████████████████████████████████████████████| 4/4 [01:49<00:00, 27.27s/it, loss=0.203]\n"
          ]
        },
        {
          "output_type": "stream",
          "name": "stdout",
          "text": [
            "=> Saving checkpoint\n"
          ]
        },
        {
          "output_type": "stream",
          "name": "stderr",
          "text": [
            "100%|████████████████████████████████████████████████████████████████████████| 8/8 [04:51<00:00, 36.42s/it, loss=0.183]\n"
          ]
        },
        {
          "output_type": "stream",
          "name": "stdout",
          "text": [
            "Got 4355743/5017600 with acc 86.81\n",
            "Dice score: 0.7280713319778442\n"
          ]
        },
        {
          "output_type": "stream",
          "name": "stderr",
          "text": [
            "100%|████████████████████████████████████████████████████████████████████████| 4/4 [01:49<00:00, 27.38s/it, loss=0.199]\n"
          ]
        },
        {
          "output_type": "stream",
          "name": "stdout",
          "text": [
            "=> Saving checkpoint\n"
          ]
        },
        {
          "output_type": "stream",
          "name": "stderr",
          "text": [
            "100%|████████████████████████████████████████████████████████████████████████| 8/8 [04:45<00:00, 35.66s/it, loss=0.183]\n"
          ]
        },
        {
          "output_type": "stream",
          "name": "stdout",
          "text": [
            "Got 4465642/5017600 with acc 89.00\n",
            "Dice score: 0.7830774188041687\n"
          ]
        },
        {
          "output_type": "stream",
          "name": "stderr",
          "text": [
            "100%|████████████████████████████████████████████████████████████████████████| 4/4 [01:49<00:00, 27.26s/it, loss=0.207]\n"
          ]
        },
        {
          "output_type": "stream",
          "name": "stdout",
          "text": [
            "=> Saving checkpoint\n"
          ]
        },
        {
          "output_type": "stream",
          "name": "stderr",
          "text": [
            "100%|████████████████████████████████████████████████████████████████████████| 8/8 [04:44<00:00, 35.52s/it, loss=0.608]\n"
          ]
        },
        {
          "output_type": "stream",
          "name": "stdout",
          "text": [
            "Got 4186132/5017600 with acc 83.43\n",
            "Dice score: 0.599021852016449\n"
          ]
        },
        {
          "output_type": "stream",
          "name": "stderr",
          "text": [
            "100%|████████████████████████████████████████████████████████████████████████| 4/4 [01:49<00:00, 27.31s/it, loss=0.256]\n"
          ]
        },
        {
          "output_type": "stream",
          "name": "stdout",
          "text": [
            "=> Saving checkpoint\n"
          ]
        },
        {
          "output_type": "stream",
          "name": "stderr",
          "text": [
            "100%|████████████████████████████████████████████████████████████████████████| 8/8 [04:48<00:00, 36.02s/it, loss=0.183]\n"
          ]
        },
        {
          "output_type": "stream",
          "name": "stdout",
          "text": [
            "Got 4249603/5017600 with acc 84.69\n",
            "Dice score: 0.7439447641372681\n"
          ]
        },
        {
          "output_type": "stream",
          "name": "stderr",
          "text": [
            "100%|████████████████████████████████████████████████████████████████████████| 4/4 [01:48<00:00, 27.23s/it, loss=0.171]\n"
          ]
        },
        {
          "output_type": "stream",
          "name": "stdout",
          "text": [
            "=> Saving checkpoint\n"
          ]
        },
        {
          "output_type": "stream",
          "name": "stderr",
          "text": [
            "100%|████████████████████████████████████████████████████████████████████████| 8/8 [04:46<00:00, 35.82s/it, loss=0.643]\n"
          ]
        },
        {
          "output_type": "stream",
          "name": "stdout",
          "text": [
            "Got 4395376/5017600 with acc 87.60\n",
            "Dice score: 0.739510178565979\n"
          ]
        },
        {
          "output_type": "stream",
          "name": "stderr",
          "text": [
            "100%|████████████████████████████████████████████████████████████████████████| 4/4 [01:48<00:00, 27.14s/it, loss=0.203]\n"
          ]
        },
        {
          "output_type": "stream",
          "name": "stdout",
          "text": [
            "=> Saving checkpoint\n"
          ]
        },
        {
          "output_type": "stream",
          "name": "stderr",
          "text": [
            "100%|█████████████████████████████████████████████████████████████████████████| 8/8 [04:44<00:00, 35.56s/it, loss=1.13]\n"
          ]
        },
        {
          "output_type": "stream",
          "name": "stdout",
          "text": [
            "Got 4448227/5017600 with acc 88.65\n",
            "Dice score: 0.775132954120636\n"
          ]
        },
        {
          "output_type": "stream",
          "name": "stderr",
          "text": [
            "100%|████████████████████████████████████████████████████████████████████████| 4/4 [01:48<00:00, 27.23s/it, loss=0.213]\n"
          ]
        },
        {
          "output_type": "stream",
          "name": "stdout",
          "text": [
            "=> Saving checkpoint\n"
          ]
        },
        {
          "output_type": "stream",
          "name": "stderr",
          "text": [
            "100%|████████████████████████████████████████████████████████████████████████| 8/8 [04:46<00:00, 35.82s/it, loss=0.241]\n"
          ]
        },
        {
          "output_type": "stream",
          "name": "stdout",
          "text": [
            "Got 4489139/5017600 with acc 89.47\n",
            "Dice score: 0.8001128435134888\n"
          ]
        },
        {
          "output_type": "stream",
          "name": "stderr",
          "text": [
            "100%|████████████████████████████████████████████████████████████████████████| 4/4 [01:48<00:00, 27.20s/it, loss=0.172]\n"
          ]
        },
        {
          "output_type": "stream",
          "name": "stdout",
          "text": [
            "=> Saving checkpoint\n"
          ]
        },
        {
          "output_type": "stream",
          "name": "stderr",
          "text": [
            "100%|████████████████████████████████████████████████████████████████████████| 8/8 [04:48<00:00, 36.06s/it, loss=0.374]\n"
          ]
        },
        {
          "output_type": "stream",
          "name": "stdout",
          "text": [
            "Got 4427811/5017600 with acc 88.25\n",
            "Dice score: 0.7633665800094604\n"
          ]
        },
        {
          "output_type": "stream",
          "name": "stderr",
          "text": [
            "100%|████████████████████████████████████████████████████████████████████████| 4/4 [01:49<00:00, 27.40s/it, loss=0.176]\n"
          ]
        },
        {
          "output_type": "stream",
          "name": "stdout",
          "text": [
            "=> Saving checkpoint\n"
          ]
        },
        {
          "output_type": "stream",
          "name": "stderr",
          "text": [
            "100%|████████████████████████████████████████████████████████████████████████| 8/8 [04:46<00:00, 35.77s/it, loss=0.594]\n"
          ]
        },
        {
          "output_type": "stream",
          "name": "stdout",
          "text": [
            "Got 4404780/5017600 with acc 87.79\n",
            "Dice score: 0.7464316487312317\n"
          ]
        },
        {
          "output_type": "stream",
          "name": "stderr",
          "text": [
            "100%|████████████████████████████████████████████████████████████████████████| 4/4 [01:49<00:00, 27.42s/it, loss=0.225]\n"
          ]
        },
        {
          "output_type": "stream",
          "name": "stdout",
          "text": [
            "=> Saving checkpoint\n"
          ]
        },
        {
          "output_type": "stream",
          "name": "stderr",
          "text": [
            "100%|█████████████████████████████████████████████████████████████████████████| 8/8 [04:46<00:00, 35.76s/it, loss=0.18]\n"
          ]
        },
        {
          "output_type": "stream",
          "name": "stdout",
          "text": [
            "Got 3995543/5017600 with acc 79.63\n",
            "Dice score: 0.6819042563438416\n"
          ]
        },
        {
          "output_type": "stream",
          "name": "stderr",
          "text": [
            "100%|████████████████████████████████████████████████████████████████████████| 4/4 [01:49<00:00, 27.34s/it, loss=0.159]\n"
          ]
        },
        {
          "output_type": "stream",
          "name": "stdout",
          "text": [
            "=> Saving checkpoint\n"
          ]
        },
        {
          "output_type": "stream",
          "name": "stderr",
          "text": [
            "100%|████████████████████████████████████████████████████████████████████████| 8/8 [04:47<00:00, 35.93s/it, loss=0.572]\n"
          ]
        },
        {
          "output_type": "stream",
          "name": "stdout",
          "text": [
            "Got 4388717/5017600 with acc 87.47\n",
            "Dice score: 0.7404134273529053\n"
          ]
        },
        {
          "output_type": "stream",
          "name": "stderr",
          "text": [
            "100%|████████████████████████████████████████████████████████████████████████| 4/4 [01:49<00:00, 27.44s/it, loss=0.171]\n"
          ]
        },
        {
          "output_type": "stream",
          "name": "stdout",
          "text": [
            "=> Saving checkpoint\n"
          ]
        },
        {
          "output_type": "stream",
          "name": "stderr",
          "text": [
            "100%|████████████████████████████████████████████████████████████████████████| 8/8 [04:44<00:00, 35.58s/it, loss=0.223]\n"
          ]
        },
        {
          "output_type": "stream",
          "name": "stdout",
          "text": [
            "Got 4492269/5017600 with acc 89.53\n",
            "Dice score: 0.804486870765686\n"
          ]
        },
        {
          "output_type": "stream",
          "name": "stderr",
          "text": [
            "100%|████████████████████████████████████████████████████████████████████████| 4/4 [01:47<00:00, 26.84s/it, loss=0.154]\n"
          ]
        },
        {
          "output_type": "stream",
          "name": "stdout",
          "text": [
            "=> Saving checkpoint\n"
          ]
        },
        {
          "output_type": "display_data",
          "data": {
            "text/plain": [
              "<Figure size 1000x500 with 1 Axes>"
            ],
            "image/png": "[encoded data removed]"
          },
          "metadata": {}
        }
      ],
      "source": [
        "def main():\n",
        "    model = UNET(in_channels=1, out_channels=1).to(DEVICE)\n",
        "    loss_fn = nn.BCEWithLogitsLoss() ## Dice Loss\n",
        "    optimizer = optim.Adam(model.parameters(), lr=LEARNING_RATE) ## AdamW\n",
        "\n",
        "    train_loader, val_loader, test_loader = get_loaders(\n",
        "        TRAIN_IMG_DIR,\n",
        "        TRAIN_MASK_DIR,\n",
        "        VAL_IMG_DIR,\n",
        "        VAL_MASK_DIR,\n",
        "        TEST_IMG_DIR,\n",
        "        TEST_MASK_DIR,\n",
        "        BATCH_SIZE,\n",
        "        train_transform,\n",
        "        val_transform,\n",
        "        test_transform,\n",
        "        num_workers=NUM_WORKERS,\n",
        "        pin_memory=PIN_MEMORY\n",
        "    )\n",
        "    scaler = torch.cuda.amp.GradScaler()\n",
        "    train_losses = []\n",
        "    val_losses = []\n",
        "\n",
        "    if LOAD_MODEL:\n",
        "        load_checkpoint(torch.load(\"MODEL_SAVE_PATH\"), model)\n",
        "\n",
        "    for epoch in range(NUM_EPOCHS):\n",
        "        train_loss = train_fn(train_loader, model, optimizer, loss_fn, scaler, DEVICE)\n",
        "        train_losses.extend(train_loss)\n",
        "        check_accuracy(val_loader, model, DEVICE)\n",
        "        val_loss = train_fn(val_loader, model, optimizer, loss_fn, scaler, DEVICE)\n",
        "        val_losses.extend(val_loss)\n",
        "\n",
        "        checkpoint = {\n",
        "            \"state_dict\": model.state_dict(),\n",
        "            \"optimizer\": optimizer.state_dict(),\n",
        "        }\n",
        "        save_checkpoint(checkpoint)\n",
        "\n",
        "    plt.figure(figsize=(10, 5))\n",
        "    plt.plot(train_losses, label='Train Loss')\n",
        "    plt.plot(val_losses, label='Val Loss')\n",
        "    plt.xlabel('Batch')\n",
        "    plt.ylabel('Loss')\n",
        "    plt.title('Learning Curves')\n",
        "    plt.legend()\n",
        "    plt.show()\n",
        "    model.eval()\n",
        "    with torch.no_grad():\n",
        "        for idx, (x, y) in enumerate(test_loader):\n",
        "            x = x.to(DEVICE)\n",
        "            y = y.to(DEVICE)\n",
        "            preds = torch.sigmoid(model(x))\n",
        "            preds = (preds > 0.5).float()\n",
        "            torchvision.utils.save_image(preds, f\"C:/Users/alida/Downloads/content/drive/MyDrive/Saved_Images/test_pred_{idx}.png\")\n",
        "            torchvision.utils.save_image(y.unsqueeze(1), f\"C:/Users/alida/Downloads/content/drive/MyDrive/Saved_Images/test_true_{idx}.png\")\n",
        "\n",
        "if __name__ == \"__main__\":\n",
        "    main()"
      ]
    },
    {
      "cell_type": "markdown",
      "source": [
        "**The plot shows the learning curves for the training and validation loss over the batches during training. **\n",
        "\n",
        "1.   Training loss\n",
        "\n",
        "*   In the beginning the training loss is relatively high indicting that the model is not well fitted to the training data at the beginning however over time the training data the loss generally decreases.\n",
        "*   Spikes in training could be due to the noisy data\n",
        "\n",
        "\n",
        "2.   Validation loss\n",
        "\n",
        "*   Validation loss decreases overtime but shows some fluctuations. This is an indication how well the model generalizes to unseen data\n",
        "*  The validation loss seems to generally decrease, suggesting that the model is not overfitting significantly.\n",
        "\n",
        "\n",
        "\n",
        "\n",
        "\n"
      ],
      "metadata": {
        "id": "OCh-MxwFJM5m"
      }
    },
    {
      "cell_type": "markdown",
      "source": [
        "**Visualizing the actual vs the predicted**"
      ],
      "metadata": {
        "id": "_dIod3P6Fovy"
      }
    },
    {
      "cell_type": "code",
      "source": [
        "base_img = \"C:/Users/alida/Downloads/content/drive/MyDrive/Saved_Images\"\n",
        "Test_Actual =  os.path.join(base_img, 'test_true_0.png')\n",
        "Tets_Pred =  os.path.join(base_img, 'test_pred_0.png')\n",
        "\n",
        "img_Act = cv2.imread(Test_Actual)\n",
        "img_pred = cv2.imread(Tets_Pred)\n",
        "\n",
        "\n",
        "f, axarr = plt.subplots(1, 2, figsize=(10, 5))\n",
        "\n",
        "axarr[0].imshow(img_Act)\n",
        "axarr[0].set_title('Actual Mask')\n",
        "axarr[0].axis('off')\n",
        "\n",
        "axarr[1].imshow(img_pred)\n",
        "axarr[1].set_title('Predicted Mask')\n",
        "axarr[1].axis('off')\n",
        "\n",
        "plt.show()"
      ],
      "metadata": {
        "colab": {
          "base_uri": "https://localhost:8080/",
          "height": 191
        },
        "id": "dvez7pXiFuxV",
        "outputId": "f06100bb-8173-4ce9-99de-0894c1cedb00"
      },
      "execution_count": null,
      "outputs": [
        {
          "output_type": "display_data",
          "data": {
            "text/plain": [
              "<Figure size 1000x500 with 2 Axes>"
            ],
            "image/png": "[encoded data removed]"
          },
          "metadata": {}
        }
      ]
    },
    {
      "cell_type": "code",
      "source": [
        "# Exp1: Unet lr 0.0001 batch 32 DiceLoss\n",
        "# Exp2: ResNET lr 0.0001 batch 32 DiceLoss"
      ],
      "metadata": {
        "id": "i76Be1NuIvBl"
      },
      "execution_count": null,
      "outputs": []
    }
  ],
  "metadata": {
    "colab": {
      "provenance": [],
      "gpuType": "T4"
    },
    "kernelspec": {
      "display_name": "Python 3",
      "name": "python3"
    },
    "language_info": {
      "name": "python"
    },
    "accelerator": "GPU"
  },
  "nbformat": 4,
  "nbformat_minor": 0
}